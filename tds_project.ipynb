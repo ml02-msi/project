{
 "cells": [
  {
   "cell_type": "code",
   "execution_count": 1,
   "metadata": {},
   "outputs": [],
   "source": [
    "import os\n",
    "import subprocess\n",
    "import json\n",
    "from datetime import datetime\n",
    "from fastapi import FastAPI, HTTPException, Query\n",
    "from pydantic import BaseModel\n",
    "from typing import List, Dict, Any\n",
    "import sqlite3\n",
    "import requests\n",
    "from openai import OpenAI\n",
    "\n",
    "from fastapi import FastAPI, HTTPException, Query\n",
    "from fastapi.middleware.cors import CORSMiddleware\n",
    "import os\n",
    "import requests\n",
    "import subprocess\n",
    "import json\n",
    "from dotenv import load_dotenv\n",
    "load_dotenv() \n",
    "\n",
    "app = FastAPI()\n",
    "\n",
    "app.add_middleware(\n",
    "    CORSMiddleware,\n",
    "    allow_origins=[\"*\"],\n",
    "    allow_credentials=True,\n",
    "    allow_methods=[\"*\"],\n",
    "    allow_headers=[\"*\"],\n",
    ")"
   ]
  },
  {
   "cell_type": "code",
   "execution_count": 2,
   "metadata": {},
   "outputs": [],
   "source": [
    "tools = [\n",
    "    {\n",
    "        \"name\": \"function\",\n",
    "        \"type\": \"function\",\n",
    "        \"function\":{\n",
    "            \"name\": \"script_runner\",\n",
    "            \"description\": \"Install a package and run a script from an URL with provided arguments\",\n",
    "            \"parameters\": {\n",
    "                \"type\": \"object\",\n",
    "                \"properties\": {\n",
    "                    \"script_url\": {\n",
    "                        \"type\": \"string\",\n",
    "                        \"description\": \"The URL of the script to run\"\n",
    "                    },\n",
    "                    \"args\": {\n",
    "                        \"type\": \"array\",\n",
    "                        \"items\": {\n",
    "                            \"type\": \"string\"\n",
    "                        },\n",
    "                        \"description\": \"List of arguments to pass to the script\"\n",
    "                    },   \n",
    "\n",
    "                }, \"required\": [\"script_url\", \"args\"]\n",
    "            }\n",
    "        },\n",
    "    }\n",
    "]"
   ]
  },
  {
   "cell_type": "code",
   "execution_count": 3,
   "metadata": {},
   "outputs": [],
   "source": [
    "AIPROXY_TOKEN = os.getenv(\"AIPROXY_TOKEN\")\n"
   ]
  },
  {
   "cell_type": "code",
   "execution_count": 4,
   "metadata": {},
   "outputs": [],
   "source": [
    "@app.get(\"/\")\n",
    "async def root():\n",
    "    return {\"message\": \"Hello World\"}"
   ]
  },
  {
   "cell_type": "code",
   "execution_count": 5,
   "metadata": {},
   "outputs": [],
   "source": [
    "@app.get(\"/read\")\n",
    "def read_file(path:str):\n",
    "    try:\n",
    "        with open(path, 'r') as f:\n",
    "            content = f.read()\n",
    "        return content\n",
    "    except Exception as e:\n",
    "        raise HTTPException(status_code=404, detail=str(e))\n",
    "    "
   ]
  },
  {
   "cell_type": "code",
   "execution_count": 6,
   "metadata": {},
   "outputs": [],
   "source": [
    "CACHE_FILE = \"api_cache.json\"\n",
    "\n",
    "\n",
    "@app.post(\"/run\")\n",
    "def task_runner(task:str):\n",
    "    url = \"https://aiproxy.sanand.workers.dev/openai/v1/chat/completions\"\n",
    "    headers = {\n",
    "        \"Content-Type\": \"application/json\",\n",
    "        \"Authorization\": f\"Bearer {AIPROXY_TOKEN}\"\n",
    "    }\n",
    "\n",
    "    data = {   \n",
    "        \"model\": \"gpt-4o-mini\",\n",
    "        \"messages\": [\n",
    "            {\n",
    "                \"role\": \"user\",\n",
    "                \"content\": task\n",
    "            },\n",
    "            {\n",
    "                \"role\": \"system\",\n",
    "                \"content\": \"\"\"\n",
    "You are an assistant who has to do a variety of tasks\n",
    "If your task involves running a script, you can use the script_runner tool.\n",
    "If your task involves writing a code, you can use the task_runner tool.\n",
    "\"\"\"\n",
    "            }\n",
    "        ],\n",
    "        \"tools\": tools,\n",
    "        \"tool_choice\": \"auto\"\n",
    "    }\n",
    "\n",
    "    response = requests.post(url, headers=headers, json=data)\n",
    "    if not response.ok:\n",
    "        raise HTTPException(status_code=response.status_code, detail=response.text)\n",
    "    \n",
    "    res_json = response.json()\n",
    "    cache = res_json\n",
    "    with open(CACHE_FILE, \"w\") as f:\n",
    "        json.dump(cache, f)\n",
    "    try:\n",
    "        argu = res_json['choices'][0]['message']\n",
    "    except (KeyError, IndexError) as e:\n",
    "        raise HTTPException(status_code=500, detail=f\"Error parsing response: {e}\\nResponse: {res_json}\")\n",
    "    \n",
    "    try:\n",
    "        arguments = argu['tool_calls'][0]['function']['arguments']\n",
    "        # If arguments is a string, parse it; otherwise, assume it's already a dict.\n",
    "        if isinstance(arguments, str):\n",
    "            func_args = json.loads(arguments)\n",
    "        else:\n",
    "            func_args = arguments\n",
    "        script_url = func_args['script_url']\n",
    "        email = func_args['args'][0]\n",
    "        print(script_url, email)\n",
    "        command = [\"uv\",\"run\",script_url, email]\n",
    "        result = subprocess.run(command, capture_output=True, text=True, check=True)\n",
    "        return {\"output\": result.stdout, \"error\": result.stderr}\n",
    "    except Exception as ex:\n",
    "        raise HTTPException(status_code=500, detail=f\"Error executing script: {ex}\")"
   ]
  },
  {
   "cell_type": "code",
   "execution_count": null,
   "metadata": {},
   "outputs": [
    {
     "name": "stderr",
     "output_type": "stream",
     "text": [
      "INFO:     Started server process [56619]\n",
      "INFO:     Waiting for application startup.\n",
      "INFO:     Application startup complete.\n",
      "INFO:     Uvicorn running on http://0.0.0.0:8000 (Press CTRL+C to quit)\n"
     ]
    }
   ],
   "source": [
    "\n",
    "\n",
    "# # Run this only once manually in a separate cell\n",
    "# import uvicorn\n",
    "# uvicorn.run(app, host=\"0.0.0.0\", port=8000, reload=False)\n",
    "\n",
    "import uvicorn\n",
    "import threading\n",
    "\n",
    "def run_server():\n",
    "    uvicorn.run(app, host=\"0.0.0.0\", port=8000, reload=False)\n",
    "\n",
    "# Start the server in a separate thread\n",
    "server_thread = threading.Thread(target=run_server, daemon=True)\n",
    "server_thread.start()\n",
    "\n"
   ]
  },
  {
   "cell_type": "code",
   "execution_count": 11,
   "metadata": {},
   "outputs": [
    {
     "name": "stdout",
     "output_type": "stream",
     "text": [
      "https://raw.githubusercontent.com/sanand0/tools-in-data-science-public/tds-2025-01/project-1/datagen.py my@gmail.com\n",
      "{'detail': \"Error executing script: Command '['uv', 'run', 'https://raw.githubusercontent.com/sanand0/tools-in-data-science-public/tds-2025-01/project-1/datagen.py', 'my@gmail.com']' returned non-zero exit status 1.\"}\n"
     ]
    }
   ],
   "source": [
    "BASE_URL = \"http://127.0.0.1:8000\"\n",
    "\n",
    "\n",
    "# Test the run endpoint\n",
    "# task_description = \"Count occurrences of Monday in the dataset\"\n",
    "task_description = \"Install uv (if required) and run https://raw.githubusercontent.com/sanand0/tools-in-data-science-public/tds-2025-01/project-1/datagen.py with my@gmail.com as the only argument.\"\n",
    "response = requests.post(f\"{BASE_URL}/run\", params={\"task\": task_description})\n",
    "print(response.json())  # Should return cached result after first call\n"
   ]
  },
  {
   "cell_type": "code",
   "execution_count": 12,
   "metadata": {},
   "outputs": [
    {
     "data": {
      "text/plain": [
       "{'detail': \"Error executing script: Command '['uv', 'run', 'https://raw.githubusercontent.com/sanand0/tools-in-data-science-public/tds-2025-01/project-1/datagen.py', 'my@gmail.com']' returned non-zero exit status 1.\"}"
      ]
     },
     "execution_count": 12,
     "metadata": {},
     "output_type": "execute_result"
    }
   ],
   "source": [
    "response.json()"
   ]
  },
  {
   "cell_type": "code",
   "execution_count": 17,
   "metadata": {},
   "outputs": [
    {
     "ename": "",
     "evalue": "",
     "output_type": "error",
     "traceback": [
      "\u001b[1;31mThe Kernel crashed while executing code in the current cell or a previous cell. \n",
      "\u001b[1;31mPlease review the code in the cell(s) to identify a possible cause of the failure. \n",
      "\u001b[1;31mClick <a href='https://aka.ms/vscodeJupyterKernelCrash'>here</a> for more info. \n",
      "\u001b[1;31mView Jupyter <a href='command:jupyter.viewOutput'>log</a> for further details."
     ]
    }
   ],
   "source": [
    "# To kill the threading server\n",
    "\n",
    "import os\n",
    "import signal\n",
    "\n",
    "# Get the process ID of the current Python process\n",
    "pid = os.getpid()\n",
    "\n",
    "# Kill the process (forcefully stopping uvicorn)\n",
    "os.kill(pid, signal.SIGTERM)\n"
   ]
  },
  {
   "cell_type": "code",
   "execution_count": 13,
   "metadata": {},
   "outputs": [
    {
     "name": "stdout",
     "output_type": "stream",
     "text": [
      "{\n",
      "    \"id\": \"chatcmpl-B0ZOcc1lSFhP78b4NrTBMtfvaxQg6\",\n",
      "    \"object\": \"chat.completion\",\n",
      "    \"created\": 1739475762,\n",
      "    \"model\": \"gpt-4o-mini-2024-07-18\",\n",
      "    \"choices\": [\n",
      "        {\n",
      "            \"index\": 0,\n",
      "            \"message\": {\n",
      "                \"role\": \"assistant\",\n",
      "                \"content\": null,\n",
      "                \"tool_calls\": [\n",
      "                    {\n",
      "                        \"id\": \"call_DZOpdqSdYYhWi5ppgusZlpFC\",\n",
      "                        \"type\": \"function\",\n",
      "                        \"function\": {\n",
      "                            \"name\": \"script_runner\",\n",
      "                            \"arguments\": \"{\\\"script_url\\\":\\\"https://raw.githubusercontent.com/sanand0/tools-in-data-science-public/tds-2025-01/project-1/datagen.py\\\",\\\"args\\\":[\\\"my@gmail.com\\\"]}\"\n",
      "                        }\n",
      "                    }\n",
      "                ],\n",
      "                \"refusal\": null\n",
      "            },\n",
      "            \"logprobs\": null,\n",
      "            \"finish_reason\": \"tool_calls\"\n",
      "        }\n",
      "    ],\n",
      "    \"usage\": {\n",
      "        \"prompt_tokens\": 170,\n",
      "        \"completion_tokens\": 51,\n",
      "        \"total_tokens\": 221,\n",
      "        \"prompt_tokens_details\": {\n",
      "            \"cached_tokens\": 0,\n",
      "            \"audio_tokens\": 0\n",
      "        },\n",
      "        \"completion_tokens_details\": {\n",
      "            \"reasoning_tokens\": 0,\n",
      "            \"audio_tokens\": 0,\n",
      "            \"accepted_prediction_tokens\": 0,\n",
      "            \"rejected_prediction_tokens\": 0\n",
      "        }\n",
      "    },\n",
      "    \"service_tier\": \"default\",\n",
      "    \"system_fingerprint\": \"fp_72ed7ab54c\",\n",
      "    \"monthlyCost\": 0.38280504,\n",
      "    \"cost\": 0.0008160000000000001,\n",
      "    \"monthlyRequests\": 356\n",
      "}\n"
     ]
    }
   ],
   "source": [
    "CACHE_FILE = \"api_cache.json\"\n",
    "\n",
    "# Load and read the JSON file\n",
    "with open(CACHE_FILE, \"r\") as f:\n",
    "    cache_data = json.load(f)\n",
    "\n",
    "# Print all cached tasks\n",
    "print(json.dumps(cache_data, indent=4))"
   ]
  },
  {
   "cell_type": "code",
   "execution_count": 14,
   "metadata": {},
   "outputs": [],
   "source": [
    "arguments = cache_data['choices'][0]['message']['tool_calls'][0]['function']['arguments']\n",
    "# If arguments is a string, parse it; otherwise, assume it's already a dict.\n",
    "if isinstance(arguments, str):\n",
    "    func_args = json.loads(arguments)\n",
    "else:\n",
    "    func_args = arguments\n",
    "script_url = func_args['script_url']\n",
    "email = func_args['args'][0]"
   ]
  },
  {
   "cell_type": "code",
   "execution_count": 15,
   "metadata": {},
   "outputs": [
    {
     "data": {
      "text/plain": [
       "'https://raw.githubusercontent.com/sanand0/tools-in-data-science-public/tds-2025-01/project-1/datagen.py'"
      ]
     },
     "execution_count": 15,
     "metadata": {},
     "output_type": "execute_result"
    }
   ],
   "source": [
    "script_url"
   ]
  },
  {
   "cell_type": "code",
   "execution_count": 16,
   "metadata": {},
   "outputs": [
    {
     "data": {
      "text/plain": [
       "'my@gmail.com'"
      ]
     },
     "execution_count": 16,
     "metadata": {},
     "output_type": "execute_result"
    }
   ],
   "source": [
    "email"
   ]
  },
  {
   "cell_type": "code",
   "execution_count": 5,
   "metadata": {},
   "outputs": [],
   "source": [
    "EMAIL_SENDER = {\n",
    "        \"type\": \"function\",\n",
    "        \"function\": {\n",
    "            \"name\": \"email_sender\",\n",
    "            \"description\": \"Extract the sender's email address and in response return just the sender's email address\",\n",
    "            \"parameters\": {\n",
    "                \"type\": \"object\",\n",
    "                \"properties\": {\n",
    "                    \"input_location\": {\n",
    "                        \"type\": \"string\", \n",
    "                        \"description\": \"The relative input image location on user's device\"\n",
    "                    },\n",
    "                    \"output_location\": {\n",
    "                        \"type\": \"string\", \n",
    "                        \"description\": \"The relative output location on user's device\"\n",
    "                    },\n",
    "                },\n",
    "                \"required\": [\"input_location\",\"output_location\"],\n",
    "                \"additionalProperties\": False,\n",
    "            },\n",
    "            \"strict\": True,\n",
    "        }\n",
    "    }\n"
   ]
  },
  {
   "cell_type": "code",
   "execution_count": 6,
   "metadata": {},
   "outputs": [],
   "source": [
    "def email_sender(input_location:str, output_location:str):\n",
    "    with open(input_location,\"rb\") as f:\n",
    "        text = f.read().decode(\"utf-8\")\n",
    "        print(text)\n",
    "        print(\"********\"*5)\n",
    "    f.close()\n",
    "    url = \"https://aiproxy.sanand.workers.dev/openai/v1/chat/completions\"\n",
    "    headers = {\n",
    "        \"Content-Type\": \"application/json\",\n",
    "        \"Authorization\": f\"Bearer {AIPROXY_TOKEN}\"\n",
    "    }\n",
    "    data = {\n",
    "        \"model\": \"gpt-4o-mini\",\n",
    "        \"messages\": [\n",
    "            {\n",
    "                \"role\": \"system\", \n",
    "                \"content\": \"Extract just the sender's email address from this email and return just the sender's email address.\"\n",
    "            },\n",
    "            {\n",
    "                \"role\": \"user\",\n",
    "                \"content\": text\n",
    "            }\n",
    "        ]\n",
    "    }\n",
    "    response = requests.post(url, headers=headers, data=json.dumps(data)).json()\n",
    "    print(response)\n",
    "    with open(output_location,\"w\") as f:\n",
    "        f.write(response[\"choices\"][0][\"message\"][\"content\"].replace(\" \",\"\"))\n",
    "    f.close()\n",
    "    return {\"status\": \"Successfully Created\", \"output_file destination\": output_location}"
   ]
  },
  {
   "cell_type": "code",
   "execution_count": 9,
   "metadata": {},
   "outputs": [
    {
     "name": "stdout",
     "output_type": "stream",
     "text": [
      "Delivered-To: xescobar@example.com\n",
      "MIME-Version: 1.0\n",
      "From: \"Anne Curry\" <ashleyquinn@example.com>\n",
      "Date: Thu, 17 Aug 1995 21:48:50 +0000\n",
      "Subject: Race couple save approach.\n",
      "To: \"Cynthia Vincent\" <xescobar@example.com>\n",
      "Cc: \"Cindy Hoffman\" <shepardstephen@example.com>, \"Tara Ramirez\" <danielbrown@example.org>, \"Daniel Robinson\" <wintersscott@example.com>\n",
      "Content-Type: multipart/alternative; boundary=\"00000000000091a0ba062bcdefca\"\n",
      "\n",
      "--00000000000091a0ba062bcdefca\n",
      "Content-Type: text/plain; charset=\"UTF-8\"\n",
      "Content-Transfer-Encoding: quoted-printable\n",
      "\n",
      "Democratic effort concern room test to school. Media care hundred happen line grow.\n",
      "If fast purpose evening. Sign three huge policy sport receive. Speak exactly rate meet involve.\n",
      "\n",
      "--00000000000091a0ba062bcdefca--\n",
      "\n",
      "****************************************\n",
      "{'id': 'chatcmpl-B0ymgjb3gn8mFBcUXltFhXqLvi5Wc', 'object': 'chat.completion', 'created': 1739573354, 'model': 'gpt-4o-mini-2024-07-18', 'choices': [{'index': 0, 'message': {'role': 'assistant', 'content': 'ashleyquinn@example.com', 'refusal': None}, 'logprobs': None, 'finish_reason': 'stop'}], 'usage': {'prompt_tokens': 246, 'completion_tokens': 7, 'total_tokens': 253, 'prompt_tokens_details': {'cached_tokens': 0, 'audio_tokens': 0}, 'completion_tokens_details': {'reasoning_tokens': 0, 'audio_tokens': 0, 'accepted_prediction_tokens': 0, 'rejected_prediction_tokens': 0}}, 'service_tier': 'default', 'system_fingerprint': 'fp_00428b782a', 'monthlyCost': 0.45459804, 'cost': 0.0007800000000000001, 'monthlyRequests': 393}\n"
     ]
    },
    {
     "data": {
      "text/plain": [
       "{'status': 'Successfully Created',\n",
       " 'output_file destination': 'data/output.txt'}"
      ]
     },
     "execution_count": 9,
     "metadata": {},
     "output_type": "execute_result"
    }
   ],
   "source": [
    "email_sender(\"data/email.txt\",\"data/output.txt\")"
   ]
  },
  {
   "cell_type": "code",
   "execution_count": 2,
   "metadata": {},
   "outputs": [],
   "source": [
    "AIPROXY_TOKEN = os.getenv(\"AIPROXY_TOKEN\")"
   ]
  },
  {
   "cell_type": "code",
   "execution_count": 3,
   "metadata": {},
   "outputs": [],
   "source": [
    "FORMAT_FILE = {\n",
    "        \"type\": \"function\",\n",
    "        \"function\": {\n",
    "            \"name\": \"format_file\",\n",
    "            \"description\": \"Format a file using Prettier with specified version\",\n",
    "            \"parameters\": {\n",
    "                \"type\": \"object\",\n",
    "                \"properties\": {\n",
    "                    \"path\": {\n",
    "                        \"type\": \"string\",\n",
    "                        \"description\": \"Path to the file to format\"\n",
    "                    },\n",
    "                \"prettier_version\": {\n",
    "                    \"type\": \"string\",\n",
    "                    \"description\": \"Prettier version to use (e.g. '3.4.2')\"\n",
    "                    }\n",
    "                }, \"required\": [\"path\", \"prettier_version\"]\n",
    "            }\n",
    "        }\n",
    "    }"
   ]
  },
  {
   "cell_type": "code",
   "execution_count": 4,
   "metadata": {},
   "outputs": [
    {
     "ename": "SyntaxError",
     "evalue": "incomplete input (842141944.py, line 55)",
     "output_type": "error",
     "traceback": [
      "\u001b[0;36m  Cell \u001b[0;32mIn[4], line 55\u001b[0;36m\u001b[0m\n\u001b[0;31m    return {\"output\": result.stdout, \"error\": result.stderr}\u001b[0m\n\u001b[0m                                                            ^\u001b[0m\n\u001b[0;31mSyntaxError\u001b[0m\u001b[0;31m:\u001b[0m incomplete input\n"
     ]
    }
   ],
   "source": [
    "def task_runner(task:str):\n",
    "    url = \"https://aiproxy.sanand.workers.dev/openai/v1/chat/completions\"\n",
    "    headers = {\n",
    "        \"Content-Type\": \"application/json\",\n",
    "        \"Authorization\": f\"Bearer {AIPROXY_TOKEN}\"\n",
    "    }\n",
    " \n",
    "    data = {   \n",
    "        \"model\": \"gpt-4o-mini\",\n",
    "        \"messages\": [\n",
    "            {\n",
    "                \"role\": \"user\",\n",
    "                \"content\": task\n",
    "            },\n",
    "            {\n",
    "                \"role\": \"system\",\n",
    "                \"content\": \"\"\"You are an assistant who has to do a variety of tasks.\n",
    "- Use script_runner for installing packages and running scripts from URLs\n",
    "- Use format_file for formatting files with Prettier\n",
    "- Use task_runner for tasks involving writing a code\n",
    "- Use sort_contacts for sorting contacts in a JSON file by last name and then by first name\n",
    "- Use get_completions_image to run the get_completions_image function and save output to a file\"\"\"\n",
    "            }\n",
    "        ],\n",
    "        \"tools\": tools,\n",
    "        \"tool_choice\": \"auto\"\n",
    "    }\n",
    "\n",
    "    try:\n",
    "        response = requests.post(url, headers=headers, json=data)\n",
    "        response.raise_for_status()\n",
    "    except requests.RequestException as e:\n",
    "        raise HTTPException(status_code=500, detail=f\"API request failed: {str(e)}\")\n",
    "    # if not response.ok:\n",
    "    #     raise HTTPException(status_code=response.status_code, detail=response.text)\n",
    "    \n",
    "    try:\n",
    "        res_json = response.json()\n",
    "        message = res_json['choices'][0]['message']\n",
    "        # tool_calls = message.get('tool_calls', [])\n",
    "    except (KeyError, IndexError) as e:\n",
    "        raise HTTPException(status_code=500, detail=f\"Error parsing response: {e}\\nResponse: {res_json}\")\n",
    "    \n",
    "    try:\n",
    "        function_name = message['tool_calls'][0]['function']['name'] # Extract the function name\n",
    "        if function_name == \"format_file\":\n",
    "            arguments = message['tool_calls'][0]['function']['arguments']\n",
    "            path = arguments['path']\n",
    "            version = arguments['prettier_version']\n",
    "            # Checking if the file exists\n",
    "            if not os.path.exists(path):\n",
    "                    raise HTTPException(status_code=400, detail=f\"File not found: {path}\")\n",
    "            command = [\"npx\", f\"prettier@{version}\", \"--write\", path]\n",
    "            result = subprocess.run(command, capture_output=True, text=True, check=True)\n",
    "            return {\"output\": result.stdout, \"error\": result.stderr}"
   ]
  }
 ],
 "metadata": {
  "kernelspec": {
   "display_name": "test",
   "language": "python",
   "name": "python3"
  },
  "language_info": {
   "codemirror_mode": {
    "name": "ipython",
    "version": 3
   },
   "file_extension": ".py",
   "mimetype": "text/x-python",
   "name": "python",
   "nbconvert_exporter": "python",
   "pygments_lexer": "ipython3",
   "version": "3.10.14"
  }
 },
 "nbformat": 4,
 "nbformat_minor": 2
}
