{
 "cells": [
  {
   "cell_type": "code",
   "execution_count": 1,
   "metadata": {},
   "outputs": [],
   "source": [
    "import os\n",
    "import subprocess\n",
    "import json\n",
    "from datetime import datetime\n",
    "from fastapi import FastAPI, HTTPException, Query\n",
    "from pydantic import BaseModel\n",
    "from typing import List, Dict, Any\n",
    "import sqlite3\n",
    "import requests\n",
    "from openai import OpenAI\n",
    "\n",
    "from fastapi import FastAPI, HTTPException, Query\n",
    "from fastapi.middleware.cors import CORSMiddleware\n",
    "import os\n",
    "import requests\n",
    "import subprocess\n",
    "import json\n",
    "from dotenv import load_dotenv\n",
    "load_dotenv() \n",
    "\n",
    "app = FastAPI()\n",
    "\n",
    "app.add_middleware(\n",
    "    CORSMiddleware,\n",
    "    allow_origins=[\"*\"],\n",
    "    allow_credentials=True,\n",
    "    allow_methods=[\"*\"],\n",
    "    allow_headers=[\"*\"],\n",
    ")"
   ]
  },
  {
   "cell_type": "code",
   "execution_count": 2,
   "metadata": {},
   "outputs": [],
   "source": [
    "tools = [\n",
    "    {\n",
    "        \"name\": \"function\",\n",
    "        \"type\": \"function\",\n",
    "        \"function\":{\n",
    "            \"name\": \"script_runner\",\n",
    "            \"description\": \"Install a package and run a script from an URL with provided arguments\",\n",
    "            \"parameters\": {\n",
    "                \"type\": \"object\",\n",
    "                \"properties\": {\n",
    "                    \"script_url\": {\n",
    "                        \"type\": \"string\",\n",
    "                        \"description\": \"The URL of the script to run\"\n",
    "                    },\n",
    "                    \"args\": {\n",
    "                        \"type\": \"array\",\n",
    "                        \"items\": {\n",
    "                            \"type\": \"string\"\n",
    "                        },\n",
    "                        \"description\": \"List of arguments to pass to the script\"\n",
    "                    },   \n",
    "\n",
    "                }, \"required\": [\"script_url\", \"args\"]\n",
    "            }\n",
    "        },\n",
    "    }\n",
    "]"
   ]
  },
  {
   "cell_type": "code",
   "execution_count": 3,
   "metadata": {},
   "outputs": [],
   "source": [
    "AIPROXY_TOKEN = os.getenv(\"AIPROXY_TOKEN\")\n"
   ]
  },
  {
   "cell_type": "code",
   "execution_count": 4,
   "metadata": {},
   "outputs": [],
   "source": [
    "@app.get(\"/\")\n",
    "async def root():\n",
    "    return {\"message\": \"Hello World\"}"
   ]
  },
  {
   "cell_type": "code",
   "execution_count": 5,
   "metadata": {},
   "outputs": [],
   "source": [
    "@app.get(\"/read\")\n",
    "def read_file(path:str):\n",
    "    try:\n",
    "        with open(path, 'r') as f:\n",
    "            content = f.read()\n",
    "        return content\n",
    "    except Exception as e:\n",
    "        raise HTTPException(status_code=404, detail=str(e))\n",
    "    "
   ]
  },
  {
   "cell_type": "code",
   "execution_count": 40,
   "metadata": {},
   "outputs": [],
   "source": [
    "CACHE_FILE = \"api_cache.json\"\n",
    "\n",
    "\n",
    "@app.post(\"/run\")\n",
    "def task_runner(task:str):\n",
    "    url = \"https://aiproxy.sanand.workers.dev/openai/v1/chat/completions\"\n",
    "    headers = {\n",
    "        \"Content-Type\": \"application/json\",\n",
    "        \"Authorization\": f\"Bearer {AIPROXY_TOKEN}\"\n",
    "    }\n",
    "\n",
    "    data = {   \n",
    "        \"model\": \"gpt-4o-mini\",\n",
    "        \"messages\": [\n",
    "            {\n",
    "                \"role\": \"user\",\n",
    "                \"content\": task\n",
    "            },\n",
    "            {\n",
    "                \"role\": \"system\",\n",
    "                \"content\": \"\"\"\n",
    "You are an assistant who has to do a variety of tasks\n",
    "If your task involves running a script, you can use the script_runner tool.\n",
    "If your task involves writing a code, you can use the task_runner tool.\n",
    "\"\"\"\n",
    "            }\n",
    "        ],\n",
    "        \"tools\": tools,\n",
    "        \"tool_choice\": \"auto\"\n",
    "    }\n",
    "\n",
    "    response = requests.post(url, headers=headers, json=data)\n",
    "    if not response.ok:\n",
    "        raise HTTPException(status_code=response.status_code, detail=response.text)\n",
    "    \n",
    "    res_json = response.json()\n",
    "    cache = res_json\n",
    "    with open(CACHE_FILE, \"w\") as f:\n",
    "        json.dump(cache, f)\n",
    "    try:\n",
    "        argu = res_json['choices'][0]['message']\n",
    "    except (KeyError, IndexError) as e:\n",
    "        raise HTTPException(status_code=500, detail=f\"Error parsing response: {e}\\nResponse: {res_json}\")\n",
    "    \n",
    "    try:\n",
    "        arguments = argu['tool_calls'][0]['function']['arguments']\n",
    "        # If arguments is a string, parse it; otherwise, assume it's already a dict.\n",
    "        if isinstance(arguments, str):\n",
    "            func_args = json.loads(arguments)\n",
    "        else:\n",
    "            func_args = arguments\n",
    "        script_url = func_args['script_url']\n",
    "        email = func_args['args'][0]\n",
    "        print(script_url, email)\n",
    "        command = [\"uv\",\"run\",script_url, email]\n",
    "        result = subprocess.run(command, capture_output=True, text=True, check=True)\n",
    "        return {\"output\": result.stdout, \"error\": result.stderr}\n",
    "    except Exception as ex:\n",
    "        raise HTTPException(status_code=500, detail=f\"Error executing script: {ex}\")"
   ]
  },
  {
   "cell_type": "code",
   "execution_count": 7,
   "metadata": {},
   "outputs": [
    {
     "name": "stderr",
     "output_type": "stream",
     "text": [
      "INFO:     Started server process [127330]\n",
      "INFO:     Waiting for application startup.\n",
      "INFO:     Application startup complete.\n",
      "INFO:     Uvicorn running on http://0.0.0.0:8000 (Press CTRL+C to quit)\n"
     ]
    }
   ],
   "source": [
    "\n",
    "\n",
    "# # Run this only once manually in a separate cell\n",
    "# import uvicorn\n",
    "# uvicorn.run(app, host=\"0.0.0.0\", port=8000, reload=False)\n",
    "\n",
    "import uvicorn\n",
    "import threading\n",
    "\n",
    "def run_server():\n",
    "    uvicorn.run(app, host=\"0.0.0.0\", port=8000, reload=False)\n",
    "\n",
    "# Start the server in a separate thread\n",
    "server_thread = threading.Thread(target=run_server, daemon=True)\n",
    "server_thread.start()\n",
    "\n"
   ]
  },
  {
   "cell_type": "code",
   "execution_count": 41,
   "metadata": {},
   "outputs": [
    {
     "name": "stdout",
     "output_type": "stream",
     "text": [
      "{'detail': 'Error executing script: string indices must be integers'}\n"
     ]
    }
   ],
   "source": [
    "BASE_URL = \"http://127.0.0.1:8000\"\n",
    "\n",
    "\n",
    "# Test the run endpoint\n",
    "# task_description = \"Count occurrences of Monday in the dataset\"\n",
    "task_description = \"Install uv (if required) and run https://raw.githubusercontent.com/sanand0/tools-in-data-science-public/tds-2025-01/project-1/datagen.py with 22f3002341@ds.study.iitm.ac.in as the only argument.\"\n",
    "response = requests.post(f\"{BASE_URL}/run\", params={\"task\": task_description})\n",
    "print(response.json())  # Should return cached result after first call\n"
   ]
  },
  {
   "cell_type": "code",
   "execution_count": 42,
   "metadata": {},
   "outputs": [
    {
     "data": {
      "text/plain": [
       "{'detail': 'Error executing script: string indices must be integers'}"
      ]
     },
     "execution_count": 42,
     "metadata": {},
     "output_type": "execute_result"
    }
   ],
   "source": [
    "response.json()"
   ]
  },
  {
   "cell_type": "code",
   "execution_count": null,
   "metadata": {},
   "outputs": [
    {
     "ename": "",
     "evalue": "",
     "output_type": "error",
     "traceback": [
      "\u001b[1;31mThe Kernel crashed while executing code in the current cell or a previous cell. \n",
      "\u001b[1;31mPlease review the code in the cell(s) to identify a possible cause of the failure. \n",
      "\u001b[1;31mClick <a href='https://aka.ms/vscodeJupyterKernelCrash'>here</a> for more info. \n",
      "\u001b[1;31mView Jupyter <a href='command:jupyter.viewOutput'>log</a> for further details."
     ]
    }
   ],
   "source": [
    "# To kill the threading server\n",
    "\n",
    "import os\n",
    "import signal\n",
    "\n",
    "# Get the process ID of the current Python process\n",
    "pid = os.getpid()\n",
    "\n",
    "# Kill the process (forcefully stopping uvicorn)\n",
    "os.kill(pid, signal.SIGTERM)\n"
   ]
  },
  {
   "cell_type": "code",
   "execution_count": 43,
   "metadata": {},
   "outputs": [
    {
     "name": "stdout",
     "output_type": "stream",
     "text": [
      "{\n",
      "    \"id\": \"chatcmpl-B0Fx8dQzGzI9MOTipHdMmQ2lr5BxZ\",\n",
      "    \"object\": \"chat.completion\",\n",
      "    \"created\": 1739401022,\n",
      "    \"model\": \"gpt-4o-mini-2024-07-18\",\n",
      "    \"choices\": [\n",
      "        {\n",
      "            \"index\": 0,\n",
      "            \"message\": {\n",
      "                \"role\": \"assistant\",\n",
      "                \"content\": null,\n",
      "                \"tool_calls\": [\n",
      "                    {\n",
      "                        \"id\": \"call_XQyICx8unZhmoOZrxQlEFu3l\",\n",
      "                        \"type\": \"function\",\n",
      "                        \"function\": {\n",
      "                            \"name\": \"script_runner\",\n",
      "                            \"arguments\": \"{\\\"script_url\\\":\\\"https://raw.githubusercontent.com/sanand0/tools-in-data-science-public/tds-2025-01/project-1/datagen.py\\\",\\\"args\\\":[\\\"22f3002341@ds.study.iitm.ac.in\\\"]}\"\n",
      "                        }\n",
      "                    }\n",
      "                ],\n",
      "                \"refusal\": null\n",
      "            },\n",
      "            \"logprobs\": null,\n",
      "            \"finish_reason\": \"tool_calls\"\n",
      "        }\n",
      "    ],\n",
      "    \"usage\": {\n",
      "        \"prompt_tokens\": 180,\n",
      "        \"completion_tokens\": 60,\n",
      "        \"total_tokens\": 240,\n",
      "        \"prompt_tokens_details\": {\n",
      "            \"cached_tokens\": 0,\n",
      "            \"audio_tokens\": 0\n",
      "        },\n",
      "        \"completion_tokens_details\": {\n",
      "            \"reasoning_tokens\": 0,\n",
      "            \"audio_tokens\": 0,\n",
      "            \"accepted_prediction_tokens\": 0,\n",
      "            \"rejected_prediction_tokens\": 0\n",
      "        }\n",
      "    },\n",
      "    \"service_tier\": \"default\",\n",
      "    \"system_fingerprint\": \"fp_72ed7ab54c\",\n",
      "    \"monthlyCost\": 0.015173220000000001,\n",
      "    \"cost\": 0.0009,\n",
      "    \"monthlyRequests\": 97\n",
      "}\n"
     ]
    }
   ],
   "source": [
    "CACHE_FILE = \"api_cache.json\"\n",
    "\n",
    "# Load and read the JSON file\n",
    "with open(CACHE_FILE, \"r\") as f:\n",
    "    cache_data = json.load(f)\n",
    "\n",
    "# Print all cached tasks\n",
    "print(json.dumps(cache_data, indent=4))"
   ]
  },
  {
   "cell_type": "code",
   "execution_count": 44,
   "metadata": {},
   "outputs": [],
   "source": [
    "arguments = cache_data['choices'][0]['message']['tool_calls'][0]['function']['arguments']\n",
    "# If arguments is a string, parse it; otherwise, assume it's already a dict.\n",
    "if isinstance(arguments, str):\n",
    "    func_args = json.loads(arguments)\n",
    "else:\n",
    "    func_args = arguments\n",
    "script_url = func_args['script_url']\n",
    "email = func_args['args'][0]"
   ]
  },
  {
   "cell_type": "code",
   "execution_count": 45,
   "metadata": {},
   "outputs": [
    {
     "data": {
      "text/plain": [
       "'https://raw.githubusercontent.com/sanand0/tools-in-data-science-public/tds-2025-01/project-1/datagen.py'"
      ]
     },
     "execution_count": 45,
     "metadata": {},
     "output_type": "execute_result"
    }
   ],
   "source": [
    "script_url"
   ]
  },
  {
   "cell_type": "code",
   "execution_count": 39,
   "metadata": {},
   "outputs": [
    {
     "data": {
      "text/plain": [
       "'22f3002341@ds.study.iitm.ac.in'"
      ]
     },
     "execution_count": 39,
     "metadata": {},
     "output_type": "execute_result"
    }
   ],
   "source": [
    "email"
   ]
  }
 ],
 "metadata": {
  "kernelspec": {
   "display_name": "test",
   "language": "python",
   "name": "python3"
  },
  "language_info": {
   "codemirror_mode": {
    "name": "ipython",
    "version": 3
   },
   "file_extension": ".py",
   "mimetype": "text/x-python",
   "name": "python",
   "nbconvert_exporter": "python",
   "pygments_lexer": "ipython3",
   "version": "3.10.14"
  }
 },
 "nbformat": 4,
 "nbformat_minor": 2
}
