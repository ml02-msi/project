{
 "cells": [
  {
   "cell_type": "code",
   "execution_count": 2,
   "metadata": {},
   "outputs": [],
   "source": [
    "import os\n",
    "import subprocess\n",
    "import json\n",
    "from datetime import datetime\n",
    "from fastapi import FastAPI, HTTPException, Query\n",
    "from pydantic import BaseModel\n",
    "from typing import List, Dict, Any\n",
    "import sqlite3\n",
    "import requests\n",
    "from openai import OpenAI\n"
   ]
  },
  {
   "cell_type": "code",
   "execution_count": 3,
   "metadata": {},
   "outputs": [],
   "source": [
    "import sys\n",
    "import warnings\n",
    "import asyncio\n",
    "import logging\n",
    "\n",
    "from datetime import datetime\n",
    "\n",
    "# from latest_ai_development.crew import LatestAiDevelopment\n",
    "\n",
    "warnings.filterwarnings(\"ignore\", category=SyntaxWarning, module=\"pysbd\")\n",
    "\n",
    "from fastapi import FastAPI, Request, HTTPException\n",
    "from pydantic import BaseModel\n",
    "import uvicorn\n",
    "import openai\n",
    "import logging\n"
   ]
  },
  {
   "cell_type": "code",
   "execution_count": 4,
   "metadata": {},
   "outputs": [
    {
     "ename": "TypeError",
     "evalue": "'_Environ' object is not callable",
     "output_type": "error",
     "traceback": [
      "\u001b[0;31m---------------------------------------------------------------------------\u001b[0m",
      "\u001b[0;31mTypeError\u001b[0m                                 Traceback (most recent call last)",
      "Cell \u001b[0;32mIn[4], line 1\u001b[0m\n\u001b[0;32m----> 1\u001b[0m api_key \u001b[38;5;241m=\u001b[39m \u001b[43mos\u001b[49m\u001b[38;5;241;43m.\u001b[39;49m\u001b[43menviron\u001b[49m\u001b[43m(\u001b[49m\u001b[38;5;124;43m\"\u001b[39;49m\u001b[38;5;124;43mAPI_KEY\u001b[39;49m\u001b[38;5;124;43m\"\u001b[39;49m\u001b[43m)\u001b[49m\n",
      "\u001b[0;31mTypeError\u001b[0m: '_Environ' object is not callable"
     ]
    }
   ],
   "source": [
    "api_key = os.environ(\"API_KEY\")"
   ]
  },
  {
   "cell_type": "code",
   "execution_count": 5,
   "metadata": {},
   "outputs": [],
   "source": [
    "url = 'https://aiproxy.sanand.workers.dev/openai/v1/chat/completions'"
   ]
  },
  {
   "cell_type": "code",
   "execution_count": null,
   "metadata": {},
   "outputs": [],
   "source": [
    "headers = {\n",
    "        \"Content-Type\": \"application/json\",\n",
    "        \"Authorization\": f\"Bearer {api_key}\"\n",
    "    }"
   ]
  },
  {
   "cell_type": "code",
   "execution_count": null,
   "metadata": {},
   "outputs": [],
   "source": [
    "content = ''"
   ]
  },
  {
   "cell_type": "code",
   "execution_count": null,
   "metadata": {},
   "outputs": [],
   "source": [
    "payload = {\n",
    "        \"model\": \"gpt-4o-mini\",\n",
    "        \"response_format\": { \"type\": \"json_object\" },\n",
    "        \"messages\": [\n",
    "            {\n",
    "                \"role\": \"system\",\n",
    "                \"content\": \"\"\"\n",
    "Your role is to run the datagen.py script\n",
    "\"\"\"\n",
    "            },\n",
    "            {\n",
    "                \"role\": \"user\",\n",
    "                \"content\": content\n",
    "            }\n",
    "        ]\n",
    "    }"
   ]
  },
  {
   "cell_type": "code",
   "execution_count": null,
   "metadata": {},
   "outputs": [],
   "source": [
    "response = requests.post(\n",
    "    url = url,\n",
    "    headers= headers,\n",
    "    json = payload\n",
    ")"
   ]
  },
  {
   "cell_type": "code",
   "execution_count": 1,
   "metadata": {},
   "outputs": [
    {
     "ename": "NameError",
     "evalue": "name 'FastAPI' is not defined",
     "output_type": "error",
     "traceback": [
      "\u001b[0;31m---------------------------------------------------------------------------\u001b[0m",
      "\u001b[0;31mNameError\u001b[0m                                 Traceback (most recent call last)",
      "Cell \u001b[0;32mIn[1], line 2\u001b[0m\n\u001b[1;32m      1\u001b[0m \u001b[38;5;66;03m# FastAPI app definition\u001b[39;00m\n\u001b[0;32m----> 2\u001b[0m app \u001b[38;5;241m=\u001b[39m \u001b[43mFastAPI\u001b[49m()\n",
      "\u001b[0;31mNameError\u001b[0m: name 'FastAPI' is not defined"
     ]
    }
   ],
   "source": [
    "# FastAPI app definition\n",
    "app = FastAPI()"
   ]
  },
  {
   "cell_type": "code",
   "execution_count": null,
   "metadata": {},
   "outputs": [],
   "source": [
    "@app.post(\"/run\")\n",
    "async def run_task(task: str):\n",
    "    logging.info(f\"Running task: {str}\")\n",
    "    try:\n",
    "        # Run the crew kickoff asynchronously\n",
    "        asyncio.create_task(run_crew(task))\n",
    "        return {\"message\": f\"Executing task: {task}\"}\n",
    "    except Exception as e:\n",
    "        return {\"error\": str(e)}\n",
    "    \n",
    "\n",
    "async def run_task(task: str = Query(...)):\n",
    "    try:\n",
    "        steps = parse_task_with_llm(task)\n",
    "        execute_steps(steps)\n",
    "        return {\"status\": \"success\"}\n",
    "    except HTTPException as he:\n",
    "        raise he\n",
    "    except Exception as e:\n",
    "        raise HTTPException(status_code=500, detail=str(e))\n"
   ]
  },
  {
   "cell_type": "code",
   "execution_count": null,
   "metadata": {},
   "outputs": [],
   "source": [
    "async def run_crew(task: str):\n",
    "    \"\"\"\n",
    "    This will run the crew in a separate thread to avoid blocking FastAPI.\n",
    "    \"\"\"\n",
    "    logging.info(f\"Starting crew task: {task}\")\n",
    "    try:\n",
    "        # Pass the task input to the crew kickoff\n",
    "        inputs = {'topic': task}\n",
    "        LatestAiDevelopment().crew().kickoff(inputs=inputs)\n",
    "    except Exception as e:\n",
    "        logging.error(f\"Error during crew kickoff: {str(e)}\")\n"
   ]
  },
  {
   "cell_type": "code",
   "execution_count": null,
   "metadata": {},
   "outputs": [],
   "source": [
    "# Endpoint to read a file\n",
    "@app.get(\"/read\")\n",
    "async def read_file(path: str):\n",
    "    try:\n",
    "        with open(path, 'r') as file:\n",
    "            content = file.read()\n",
    "        return {\"content\": content}\n",
    "    except Exception as e:\n",
    "        logging.error(f\"Error reading file {path}: {str(e)}\")\n",
    "        raise HTTPException(status_code=400, detail=f\"Error reading file: {str(e)}\")"
   ]
  }
 ],
 "metadata": {
  "kernelspec": {
   "display_name": "test",
   "language": "python",
   "name": "python3"
  },
  "language_info": {
   "codemirror_mode": {
    "name": "ipython",
    "version": 3
   },
   "file_extension": ".py",
   "mimetype": "text/x-python",
   "name": "python",
   "nbconvert_exporter": "python",
   "pygments_lexer": "ipython3",
   "version": "3.13.2"
  }
 },
 "nbformat": 4,
 "nbformat_minor": 2
}
